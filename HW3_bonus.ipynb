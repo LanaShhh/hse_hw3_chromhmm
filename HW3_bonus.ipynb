{
  "nbformat": 4,
  "nbformat_minor": 0,
  "metadata": {
    "colab": {
      "provenance": []
    },
    "kernelspec": {
      "name": "python3",
      "display_name": "Python 3"
    },
    "language_info": {
      "name": "python"
    }
  },
  "cells": [
    {
      "cell_type": "markdown",
      "source": [
        "Для начала необходимо из архива получить файл **HMEC_15_dense.bed**. Данный код можно применить к другому .bed _ файлу, но для этого нужно поменять значение bed_file_name ниже\n"
      ],
      "metadata": {
        "id": "n9mn1GSphJZX"
      }
    },
    {
      "cell_type": "code",
      "source": [
        "bed_file_name = \"HMEC_15_dense.bed\""
      ],
      "metadata": {
        "id": "gohmhTljhf3r"
      },
      "execution_count": 1,
      "outputs": []
    },
    {
      "cell_type": "code",
      "execution_count": 6,
      "metadata": {
        "colab": {
          "base_uri": "https://localhost:8080/"
        },
        "id": "wsMkhIU6hCYm",
        "outputId": "30a99f46-4ef8-435f-add7-75af2930f033"
      },
      "outputs": [
        {
          "output_type": "stream",
          "name": "stderr",
          "text": [
            "Parsing lines: 100%|██████████| 683981/683981 [00:00<00:00, 724487.89it/s]\n"
          ]
        }
      ],
      "source": [
        "from tqdm import tqdm\n",
        "states = ['1_active_prom', '2_weak_enh', '3_inactive_prom', \n",
        "          '4_strong_enh', '5_strong_enh', '6_weak_enh',\n",
        "          \"7_weak_enh\", \"8_insulator\", \"9_transcript_transition\",\n",
        "          \"10_transcript_elongation\", \"11_weak_trans\", \"12_polycomb_repr\",\n",
        "          \"13_heterochrom\", \"14_copy_num_var\", \"15_copy_num_var\"]\n",
        "\n",
        "bed_file = open(bed_file_name, \"r\")\n",
        "new_bed_file = open(f\"new_{bed_file_name}\", \"w\")\n",
        "\n",
        "lines = bed_file.readlines()\n",
        "new_bed_file.write(lines[0])\n",
        "for line in tqdm(lines[1:], desc=\"Parsing lines\"):\n",
        "  new_line = line.split('\\t')\n",
        "  new_line[3] = states[int(new_line[3]) - 1]\n",
        "  new_line = \"\\t\".join(new_line)\n",
        "  new_bed_file.write(new_line)\n",
        "\n",
        "bed_file.close()\n",
        "new_bed_file.close()"
      ]
    },
    {
      "cell_type": "markdown",
      "source": [
        "Получили файл new_HMEC_15_dense.bed. Архивируем и скачиваем."
      ],
      "metadata": {
        "id": "k7KWRgeWmBYY"
      }
    },
    {
      "cell_type": "code",
      "source": [
        "!zip new_bed new_HMEC_15_dense.bed"
      ],
      "metadata": {
        "colab": {
          "base_uri": "https://localhost:8080/"
        },
        "id": "rjlykk-cmAxZ",
        "outputId": "8f3b8a23-03de-4bf5-bdaa-f862bf0d4326"
      },
      "execution_count": 7,
      "outputs": [
        {
          "output_type": "stream",
          "name": "stdout",
          "text": [
            "  adding: new_HMEC_15_dense.bed (deflated 86%)\n"
          ]
        }
      ]
    },
    {
      "cell_type": "code",
      "source": [],
      "metadata": {
        "id": "v7VzJM1mmhHE"
      },
      "execution_count": null,
      "outputs": []
    }
  ]
}