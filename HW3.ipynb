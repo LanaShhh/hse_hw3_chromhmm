{
  "cells": [
    {
      "cell_type": "markdown",
      "metadata": {
        "id": "vRciyzvPEDLD"
      },
      "source": [
        "# Устанавливаем java и ChromHmm"
      ]
    },
    {
      "cell_type": "code",
      "execution_count": 1,
      "metadata": {
        "colab": {
          "base_uri": "https://localhost:8080/"
        },
        "id": "1O3GJ3Gys7Tm",
        "outputId": "30b62de0-f55b-4498-fcf2-b1a63b44dd5a"
      },
      "outputs": [
        {
          "output_type": "stream",
          "name": "stdout",
          "text": [
            "  % Total    % Received % Xferd  Average Speed   Time    Time     Time  Current\n",
            "                                 Dload  Upload   Total   Spent    Left  Speed\n",
            "\r  0     0    0     0    0     0      0      0 --:--:-- --:--:-- --:--:--     0\r  0     0    0     0    0     0      0      0 --:--:-- --:--:-- --:--:--     0\r100   155  100   155    0     0   1156      0 --:--:-- --:--:-- --:--:--  1148\n",
            "fix-colab-gpu.sh: line 5: nvcc: command not found\n"
          ]
        }
      ],
      "source": [
        "!curl -O https://raw.githubusercontent.com/deepjavalibrary/d2l-java/master/tools/fix-colab-gpu.sh && bash fix-colab-gpu.sh"
      ]
    },
    {
      "cell_type": "code",
      "execution_count": 2,
      "metadata": {
        "colab": {
          "base_uri": "https://localhost:8080/"
        },
        "id": "NxS1Mv5WquOV",
        "outputId": "cc0d4618-2619-49b1-f03d-cd492e7bd824"
      },
      "outputs": [
        {
          "output_type": "stream",
          "name": "stdout",
          "text": [
            "  % Total    % Received % Xferd  Average Speed   Time    Time     Time  Current\n",
            "                                 Dload  Upload   Total   Spent    Left  Speed\n",
            "\r  0     0    0     0    0     0      0      0 --:--:-- --:--:-- --:--:--     0\r100   520  100   520    0     0   3880      0 --:--:-- --:--:-- --:--:--  3880\n",
            "Update environment...\n",
            "Install Java...\n",
            "Install Jupyter java kernel...\n"
          ]
        }
      ],
      "source": [
        "!curl -O https://raw.githubusercontent.com/deepjavalibrary/d2l-java/master/tools/colab_build.sh && bash colab_build.sh"
      ]
    },
    {
      "cell_type": "code",
      "execution_count": 3,
      "metadata": {
        "colab": {
          "base_uri": "https://localhost:8080/"
        },
        "id": "_NrPS924rQFX",
        "outputId": "0bcd38ed-4907-4a61-dfb8-d43637def004"
      },
      "outputs": [
        {
          "output_type": "stream",
          "name": "stdout",
          "text": [
            "jdk.jshell@11.0.18\n"
          ]
        }
      ],
      "source": [
        "!java --list-modules | grep \"jdk.jshell\"\n"
      ]
    },
    {
      "cell_type": "code",
      "execution_count": 4,
      "metadata": {
        "colab": {
          "base_uri": "https://localhost:8080/"
        },
        "id": "zCdYYvCJrpRt",
        "outputId": "db9f9804-2475-4d64-e3c6-da5aaeb5ce66"
      },
      "outputs": [
        {
          "output_type": "stream",
          "name": "stdout",
          "text": [
            "--2023-04-08 19:03:45--  http://compbio.mit.edu/ChromHMM/ChromHMM.zip\n",
            "Resolving compbio.mit.edu (compbio.mit.edu)... 128.30.2.44\n",
            "Connecting to compbio.mit.edu (compbio.mit.edu)|128.30.2.44|:80... connected.\n",
            "HTTP request sent, awaiting response... 200 OK\n",
            "Length: 48940646 (47M) [application/zip]\n",
            "Saving to: ‘ChromHMM.zip’\n",
            "\n",
            "ChromHMM.zip        100%[===================>]  46.67M  6.01MB/s    in 8.1s    \n",
            "\n",
            "2023-04-08 19:03:54 (5.73 MB/s) - ‘ChromHMM.zip’ saved [48940646/48940646]\n",
            "\n"
          ]
        }
      ],
      "source": [
        "! wget http://compbio.mit.edu/ChromHMM/ChromHMM.zip"
      ]
    },
    {
      "cell_type": "code",
      "execution_count": 5,
      "metadata": {
        "colab": {
          "base_uri": "https://localhost:8080/"
        },
        "id": "gF4uI2bvvEN2",
        "outputId": "bc6117a5-2f56-430f-d500-64c587ba7511"
      },
      "outputs": [
        {
          "output_type": "stream",
          "name": "stdout",
          "text": [
            "Archive:  /content/ChromHMM.zip\n",
            "   creating: ChromHMM/ANCHORFILES/\n",
            "   creating: ChromHMM/ANCHORFILES/ce10/\n",
            "  inflating: ChromHMM/ANCHORFILES/ce10/RefSeqTES.ce10.txt.gz  \n",
            "  inflating: ChromHMM/ANCHORFILES/ce10/RefSeqTSS.ce10.txt.gz  \n",
            "   creating: ChromHMM/ANCHORFILES/ce11/\n",
            "  inflating: ChromHMM/ANCHORFILES/ce11/RefSeqTES.ce11.txt.gz  \n",
            "  inflating: ChromHMM/ANCHORFILES/ce11/RefSeqTSS.ce11.txt.gz  \n",
            "   creating: ChromHMM/ANCHORFILES/ce6/\n",
            "  inflating: ChromHMM/ANCHORFILES/ce6/RefSeqTES.ce6.txt.gz  \n",
            "  inflating: ChromHMM/ANCHORFILES/ce6/RefSeqTSS.ce6.txt.gz  \n",
            "   creating: ChromHMM/ANCHORFILES/danRer10/\n",
            "  inflating: ChromHMM/ANCHORFILES/danRer10/RefSeqTES.danRer10.txt.gz  \n",
            "  inflating: ChromHMM/ANCHORFILES/danRer10/RefSeqTSS.danRer10.txt.gz  \n",
            "   creating: ChromHMM/ANCHORFILES/danRer11/\n",
            "  inflating: ChromHMM/ANCHORFILES/danRer11/RefSeqTES.danRer11.txt.gz  \n",
            "  inflating: ChromHMM/ANCHORFILES/danRer11/RefSeqTSS.danRer11.txt.gz  \n",
            "   creating: ChromHMM/ANCHORFILES/danRer7/\n",
            "  inflating: ChromHMM/ANCHORFILES/danRer7/RefSeqTES.danRer7.txt.gz  \n",
            "  inflating: ChromHMM/ANCHORFILES/danRer7/RefSeqTSS.danRer7.txt.gz  \n",
            "   creating: ChromHMM/ANCHORFILES/dm3/\n",
            "  inflating: ChromHMM/ANCHORFILES/dm3/RefSeqTES.dm3.txt.gz  \n",
            "  inflating: ChromHMM/ANCHORFILES/dm3/RefSeqTSS.dm3.txt.gz  \n",
            "   creating: ChromHMM/ANCHORFILES/dm6/\n",
            "  inflating: ChromHMM/ANCHORFILES/dm6/RefSeqTES.dm6.txt.gz  \n",
            "  inflating: ChromHMM/ANCHORFILES/dm6/RefSeqTSS.dm6.txt.gz  \n",
            "   creating: ChromHMM/ANCHORFILES/hg18/\n",
            "  inflating: ChromHMM/ANCHORFILES/hg18/RefSeqTES.hg18.txt.gz  \n",
            "  inflating: ChromHMM/ANCHORFILES/hg18/RefSeqTSS.hg18.txt.gz  \n",
            "   creating: ChromHMM/ANCHORFILES/hg19/\n",
            "  inflating: ChromHMM/ANCHORFILES/hg19/RefSeqTES.hg19.txt.gz  \n",
            "  inflating: ChromHMM/ANCHORFILES/hg19/RefSeqTSS.hg19.txt.gz  \n",
            "   creating: ChromHMM/ANCHORFILES/hg38/\n",
            "  inflating: ChromHMM/ANCHORFILES/hg38/RefSeqTES.hg38.txt.gz  \n",
            "  inflating: ChromHMM/ANCHORFILES/hg38/RefSeqTSS.hg38.txt.gz  \n",
            "   creating: ChromHMM/ANCHORFILES/hs1/\n",
            "  inflating: ChromHMM/ANCHORFILES/hs1/RefSeqTES.hs1.txt.gz  \n",
            "  inflating: ChromHMM/ANCHORFILES/hs1/RefSeqTSS.hs1.txt.gz  \n",
            "   creating: ChromHMM/ANCHORFILES/mm10/\n",
            "  inflating: ChromHMM/ANCHORFILES/mm10/RefSeqTES.mm10.txt.gz  \n",
            "  inflating: ChromHMM/ANCHORFILES/mm10/RefSeqTSS.mm10.txt.gz  \n",
            "   creating: ChromHMM/ANCHORFILES/mm39/\n",
            "  inflating: ChromHMM/ANCHORFILES/mm39/RefSeqTES.mm39.txt.gz  \n",
            "  inflating: ChromHMM/ANCHORFILES/mm39/RefSeqTSS.mm39.txt.gz  \n",
            "   creating: ChromHMM/ANCHORFILES/mm9/\n",
            "  inflating: ChromHMM/ANCHORFILES/mm9/RefSeqTES.mm9.txt.gz  \n",
            "  inflating: ChromHMM/ANCHORFILES/mm9/RefSeqTSS.mm9.txt.gz  \n",
            "   creating: ChromHMM/ANCHORFILES/rn5/\n",
            "  inflating: ChromHMM/ANCHORFILES/rn5/RefSeqTES.rn5.txt.gz  \n",
            "  inflating: ChromHMM/ANCHORFILES/rn5/RefSeqTSS.rn5.txt.gz  \n",
            "   creating: ChromHMM/ANCHORFILES/rn6/\n",
            "  inflating: ChromHMM/ANCHORFILES/rn6/RefSeqTES.rn6.txt.gz  \n",
            "  inflating: ChromHMM/ANCHORFILES/rn6/RefSeqTSS.rn6.txt.gz  \n",
            "  inflating: ChromHMM/ChromHMM.jar   \n",
            "  inflating: ChromHMM/ChromHMM_manual.pdf  \n",
            "   creating: ChromHMM/CHROMSIZES/\n",
            "  inflating: ChromHMM/CHROMSIZES/ce10.txt  \n",
            "  inflating: ChromHMM/CHROMSIZES/ce11.txt  \n",
            "  inflating: ChromHMM/CHROMSIZES/ce6.txt  \n",
            "  inflating: ChromHMM/CHROMSIZES/danRer10.txt  \n",
            "  inflating: ChromHMM/CHROMSIZES/danRer11.txt  \n",
            "  inflating: ChromHMM/CHROMSIZES/danRer7.txt  \n",
            "  inflating: ChromHMM/CHROMSIZES/dm3.txt  \n",
            "  inflating: ChromHMM/CHROMSIZES/dm6.txt  \n",
            "  inflating: ChromHMM/CHROMSIZES/hg18.txt  \n",
            "  inflating: ChromHMM/CHROMSIZES/hg19.txt  \n",
            "  inflating: ChromHMM/CHROMSIZES/hg38.txt  \n",
            "  inflating: ChromHMM/CHROMSIZES/hs1.txt  \n",
            "  inflating: ChromHMM/CHROMSIZES/mm10.txt  \n",
            "  inflating: ChromHMM/CHROMSIZES/mm39.txt  \n",
            "  inflating: ChromHMM/CHROMSIZES/mm9.txt  \n",
            "  inflating: ChromHMM/CHROMSIZES/rn5.txt  \n",
            "  inflating: ChromHMM/CHROMSIZES/rn6.txt  \n",
            "   creating: ChromHMM/COORDS/\n",
            "   creating: ChromHMM/COORDS/ce10/\n",
            "  inflating: ChromHMM/COORDS/ce10/RefSeqExon.ce10.bed.gz  \n",
            "  inflating: ChromHMM/COORDS/ce10/RefSeqGene.ce10.bed.gz  \n",
            "  inflating: ChromHMM/COORDS/ce10/RefSeqTES.ce10.bed.gz  \n",
            "  inflating: ChromHMM/COORDS/ce10/RefSeqTSS.ce10.bed.gz  \n",
            "  inflating: ChromHMM/COORDS/ce10/RefSeqTSS2kb.ce10.bed.gz  \n",
            "   creating: ChromHMM/COORDS/ce11/\n",
            "  inflating: ChromHMM/COORDS/ce11/RefSeqExon.ce11.bed.gz  \n",
            "  inflating: ChromHMM/COORDS/ce11/RefSeqGene.ce11.bed.gz  \n",
            "  inflating: ChromHMM/COORDS/ce11/RefSeqTES.ce11.bed.gz  \n",
            "  inflating: ChromHMM/COORDS/ce11/RefSeqTSS.ce11.bed.gz  \n",
            "  inflating: ChromHMM/COORDS/ce11/RefSeqTSS2kb.ce11.bed.gz  \n",
            "   creating: ChromHMM/COORDS/ce6/\n",
            "  inflating: ChromHMM/COORDS/ce6/RefSeqExon.ce6.bed.gz  \n",
            "  inflating: ChromHMM/COORDS/ce6/RefSeqGene.ce6.bed.gz  \n",
            "  inflating: ChromHMM/COORDS/ce6/RefSeqTES.ce6.bed.gz  \n",
            "  inflating: ChromHMM/COORDS/ce6/RefSeqTSS.ce6.bed.gz  \n",
            "  inflating: ChromHMM/COORDS/ce6/RefSeqTSS2kb.ce6.bed.gz  \n",
            "   creating: ChromHMM/COORDS/danRer10/\n",
            "  inflating: ChromHMM/COORDS/danRer10/RefSeqExon.danRer10.bed.gz  \n",
            "  inflating: ChromHMM/COORDS/danRer10/RefSeqGene.danRer10.bed.gz  \n",
            "  inflating: ChromHMM/COORDS/danRer10/RefSeqTES.danRer10.bed.gz  \n",
            "  inflating: ChromHMM/COORDS/danRer10/RefSeqTSS.danRer10.bed.gz  \n",
            "  inflating: ChromHMM/COORDS/danRer10/RefSeqTSS2kb.danRer10.bed.gz  \n",
            "   creating: ChromHMM/COORDS/danRer11/\n",
            "  inflating: ChromHMM/COORDS/danRer11/RefSeqExon.danRer11.bed.gz  \n",
            "  inflating: ChromHMM/COORDS/danRer11/RefSeqGene.danRer11.bed.gz  \n",
            "  inflating: ChromHMM/COORDS/danRer11/RefSeqTES.danRer11.bed.gz  \n",
            "  inflating: ChromHMM/COORDS/danRer11/RefSeqTSS.danRer11.bed.gz  \n",
            "  inflating: ChromHMM/COORDS/danRer11/RefSeqTSS2kb.danRer11.bed.gz  \n",
            "   creating: ChromHMM/COORDS/danRer7/\n",
            "  inflating: ChromHMM/COORDS/danRer7/RefSeqExon.danRer7.bed.gz  \n",
            "  inflating: ChromHMM/COORDS/danRer7/RefSeqGene.danRer7.bed.gz  \n",
            "  inflating: ChromHMM/COORDS/danRer7/RefSeqTES.danRer7.bed.gz  \n",
            "  inflating: ChromHMM/COORDS/danRer7/RefSeqTSS.danRer7.bed.gz  \n",
            "  inflating: ChromHMM/COORDS/danRer7/RefSeqTSS2kb.danRer7.bed.gz  \n",
            "   creating: ChromHMM/COORDS/dm3/\n",
            "  inflating: ChromHMM/COORDS/dm3/RefSeqExon.dm3.bed.gz  \n",
            "  inflating: ChromHMM/COORDS/dm3/RefSeqGene.dm3.bed.gz  \n",
            "  inflating: ChromHMM/COORDS/dm3/RefSeqTES.dm3.bed.gz  \n",
            "  inflating: ChromHMM/COORDS/dm3/RefSeqTSS.dm3.bed.gz  \n",
            "  inflating: ChromHMM/COORDS/dm3/RefSeqTSS2kb.dm3.bed.gz  \n",
            "   creating: ChromHMM/COORDS/dm6/\n",
            "  inflating: ChromHMM/COORDS/dm6/RefSeqExon.dm6.bed.gz  \n",
            "  inflating: ChromHMM/COORDS/dm6/RefSeqGene.dm6.bed.gz  \n",
            "  inflating: ChromHMM/COORDS/dm6/RefSeqTES.dm6.bed.gz  \n",
            "  inflating: ChromHMM/COORDS/dm6/RefSeqTSS.dm6.bed.gz  \n",
            "  inflating: ChromHMM/COORDS/dm6/RefSeqTSS2kb.dm6.bed.gz  \n",
            "   creating: ChromHMM/COORDS/hg18/\n",
            "  inflating: ChromHMM/COORDS/hg18/CpGIsland.hg18.bed.gz  \n",
            " extracting: ChromHMM/COORDS/hg18/laminB1lads.hg18.bed.gz  \n",
            "  inflating: ChromHMM/COORDS/hg18/RefSeqExon.hg18.bed.gz  \n",
            "  inflating: ChromHMM/COORDS/hg18/RefSeqGene.hg18.bed.gz  \n",
            "  inflating: ChromHMM/COORDS/hg18/RefSeqTES.hg18.bed.gz  \n",
            "  inflating: ChromHMM/COORDS/hg18/RefSeqTSS.hg18.bed.gz  \n",
            "  inflating: ChromHMM/COORDS/hg18/RefSeqTSS2kb.hg18.bed.gz  \n",
            "   creating: ChromHMM/COORDS/hg19/\n",
            "  inflating: ChromHMM/COORDS/hg19/CpGIsland.hg19.bed.gz  \n",
            " extracting: ChromHMM/COORDS/hg19/laminB1lads.hg19.bed.gz  \n",
            "  inflating: ChromHMM/COORDS/hg19/RefSeqExon.hg19.bed.gz  \n",
            "  inflating: ChromHMM/COORDS/hg19/RefSeqGene.hg19.bed.gz  \n",
            "  inflating: ChromHMM/COORDS/hg19/RefSeqTES.hg19.bed.gz  \n",
            "  inflating: ChromHMM/COORDS/hg19/RefSeqTSS.hg19.bed.gz  \n",
            "  inflating: ChromHMM/COORDS/hg19/RefSeqTSS2kb.hg19.bed.gz  \n",
            "   creating: ChromHMM/COORDS/hg38/\n",
            "  inflating: ChromHMM/COORDS/hg38/CpGIsland.hg38.bed.gz  \n",
            "  inflating: ChromHMM/COORDS/hg38/RefSeqExon.hg38.bed.gz  \n",
            "  inflating: ChromHMM/COORDS/hg38/RefSeqGene.hg38.bed.gz  \n",
            "  inflating: ChromHMM/COORDS/hg38/RefSeqTES.hg38.bed.gz  \n",
            "  inflating: ChromHMM/COORDS/hg38/RefSeqTSS.hg38.bed.gz  \n",
            "  inflating: ChromHMM/COORDS/hg38/RefSeqTSS2kb.hg38.bed.gz  \n",
            "   creating: ChromHMM/COORDS/hs1/\n",
            "  inflating: ChromHMM/COORDS/hs1/CpGIsland.hs1.bed.gz  \n",
            "  inflating: ChromHMM/COORDS/hs1/RefSeqExon.hs1.bed.gz  \n",
            "  inflating: ChromHMM/COORDS/hs1/RefSeqGene.hs1.bed.gz  \n",
            "  inflating: ChromHMM/COORDS/hs1/RefSeqTES.hs1.bed.gz  \n",
            "  inflating: ChromHMM/COORDS/hs1/RefSeqTSS.hs1.bed.gz  \n",
            "  inflating: ChromHMM/COORDS/hs1/RefSeqTSS2kb.hs1.bed.gz  \n",
            "   creating: ChromHMM/COORDS/mm10/\n",
            "  inflating: ChromHMM/COORDS/mm10/CpGIsland.mm10.bed.gz  \n",
            "  inflating: ChromHMM/COORDS/mm10/RefSeqExon.mm10.bed.gz  \n",
            "  inflating: ChromHMM/COORDS/mm10/RefSeqGene.mm10.bed.gz  \n",
            "  inflating: ChromHMM/COORDS/mm10/RefSeqTES.mm10.bed.gz  \n",
            "  inflating: ChromHMM/COORDS/mm10/RefSeqTSS.mm10.bed.gz  \n",
            "  inflating: ChromHMM/COORDS/mm10/RefSeqTSS2kb.mm10.bed.gz  \n",
            "   creating: ChromHMM/COORDS/mm39/\n",
            "  inflating: ChromHMM/COORDS/mm39/CpGIsland.mm39.bed.gz  \n",
            "  inflating: ChromHMM/COORDS/mm39/RefSeqExon.mm39.bed.gz  \n",
            "  inflating: ChromHMM/COORDS/mm39/RefSeqGene.mm39.bed.gz  \n",
            "  inflating: ChromHMM/COORDS/mm39/RefSeqTES.mm39.bed.gz  \n",
            "  inflating: ChromHMM/COORDS/mm39/RefSeqTSS.mm39.bed.gz  \n",
            "  inflating: ChromHMM/COORDS/mm39/RefSeqTSS2kb.mm39.bed.gz  \n",
            "   creating: ChromHMM/COORDS/mm9/\n",
            "  inflating: ChromHMM/COORDS/mm9/CpGIsland.mm9.bed.gz  \n",
            "  inflating: ChromHMM/COORDS/mm9/RefSeqExon.mm9.bed.gz  \n",
            "  inflating: ChromHMM/COORDS/mm9/RefSeqGene.mm9.bed.gz  \n",
            "  inflating: ChromHMM/COORDS/mm9/RefSeqTES.mm9.bed.gz  \n",
            "  inflating: ChromHMM/COORDS/mm9/RefSeqTSS.mm9.bed.gz  \n",
            "  inflating: ChromHMM/COORDS/mm9/RefSeqTSS2kb.mm9.bed.gz  \n",
            "   creating: ChromHMM/COORDS/rn5/\n",
            "  inflating: ChromHMM/COORDS/rn5/CpGIsland.rn5.bed.gz  \n",
            "  inflating: ChromHMM/COORDS/rn5/RefSeqExon.rn5.bed.gz  \n",
            "  inflating: ChromHMM/COORDS/rn5/RefSeqGene.rn5.bed.gz  \n",
            "  inflating: ChromHMM/COORDS/rn5/RefSeqTES.rn5.bed.gz  \n",
            "  inflating: ChromHMM/COORDS/rn5/RefSeqTSS.rn5.bed.gz  \n",
            "  inflating: ChromHMM/COORDS/rn5/RefSeqTSS2kb.rn5.bed.gz  \n",
            "   creating: ChromHMM/COORDS/rn6/\n",
            "  inflating: ChromHMM/COORDS/rn6/CpGIsland.rn6.bed.gz  \n",
            "  inflating: ChromHMM/COORDS/rn6/RefSeqExon.rn6.bed.gz  \n",
            "  inflating: ChromHMM/COORDS/rn6/RefSeqGene.rn6.bed.gz  \n",
            "  inflating: ChromHMM/COORDS/rn6/RefSeqTES.rn6.bed.gz  \n",
            "  inflating: ChromHMM/COORDS/rn6/RefSeqTSS.rn6.bed.gz  \n",
            "  inflating: ChromHMM/COORDS/rn6/RefSeqTSS2kb.rn6.bed.gz  \n",
            "   creating: ChromHMM/SAMPLEDATA_HG18/\n",
            "  inflating: ChromHMM/SAMPLEDATA_HG18/GM12878_chr11_binary.txt.gz  \n",
            "  inflating: ChromHMM/SAMPLEDATA_HG18/K562_chr11_binary.txt.gz  \n",
            "   creating: ChromHMM/SRC/\n",
            "   creating: ChromHMM/SRC/edu/\n",
            "   creating: ChromHMM/SRC/edu/mit/\n",
            "   creating: ChromHMM/SRC/edu/mit/compbio/\n",
            "   creating: ChromHMM/SRC/edu/mit/compbio/ChromHMM/\n",
            "  inflating: ChromHMM/SRC/edu/mit/compbio/ChromHMM/BrowserOutput.java  \n",
            "  inflating: ChromHMM/SRC/edu/mit/compbio/ChromHMM/ChromHMM.java  \n",
            "  inflating: ChromHMM/SRC/edu/mit/compbio/ChromHMM/ConvertGeneTable.java  \n",
            "  inflating: ChromHMM/SRC/edu/mit/compbio/ChromHMM/NestedEliminateInitialize.java  \n",
            "  inflating: ChromHMM/SRC/edu/mit/compbio/ChromHMM/Preprocessing.java  \n",
            "  inflating: ChromHMM/SRC/edu/mit/compbio/ChromHMM/StateAnalysis.java  \n",
            "  inflating: ChromHMM/SRC/edu/mit/compbio/ChromHMM/Util.java  \n",
            "   creating: ChromHMM/SRC/org/\n",
            "   creating: ChromHMM/SRC/org/tc33/\n",
            "   creating: ChromHMM/SRC/org/tc33/jheatchart/\n",
            "  inflating: ChromHMM/SRC/org/tc33/jheatchart/HeatChart.java  \n",
            "  inflating: ChromHMM/versionlog.txt  \n"
          ]
        }
      ],
      "source": [
        "!unzip /content/ChromHMM.zip"
      ]
    },
    {
      "cell_type": "markdown",
      "metadata": {
        "id": "k80uGrS5quq1"
      },
      "source": [
        "## Скачиваем файлы"
      ]
    },
    {
      "cell_type": "code",
      "execution_count": 6,
      "metadata": {
        "id": "PSWbbv8wcFUY",
        "colab": {
          "base_uri": "https://localhost:8080/"
        },
        "outputId": "8d93a0cf-fd12-4149-cf66-10975ef9c826"
      },
      "outputs": [
        {
          "output_type": "stream",
          "name": "stdout",
          "text": [
            "--2023-04-08 19:04:11--  http://hgdownload.cse.ucsc.edu/goldenPath/hg19/encodeDCC/wgEncodeBroadHistone/wgEncodeBroadHistoneHmecH3k27acStdAlnRep1.bam\n",
            "Resolving hgdownload.cse.ucsc.edu (hgdownload.cse.ucsc.edu)... 128.114.119.163\n",
            "Connecting to hgdownload.cse.ucsc.edu (hgdownload.cse.ucsc.edu)|128.114.119.163|:80... connected.\n",
            "HTTP request sent, awaiting response... 200 OK\n",
            "Length: 554498202 (529M) [application/octet-stream]\n",
            "Saving to: ‘H3k27ac.bam’\n",
            "\n",
            "H3k27ac.bam         100%[===================>] 528.81M  40.0MB/s    in 14s     \n",
            "\n",
            "2023-04-08 19:04:25 (38.0 MB/s) - ‘H3k27ac.bam’ saved [554498202/554498202]\n",
            "\n",
            "--2023-04-08 19:04:25--  http://hgdownload.cse.ucsc.edu/goldenPath/hg19/encodeDCC/wgEncodeBroadHistone/wgEncodeBroadHistoneHmecH3k27me3StdAlnRep1.bam\n",
            "Resolving hgdownload.cse.ucsc.edu (hgdownload.cse.ucsc.edu)... 128.114.119.163\n",
            "Connecting to hgdownload.cse.ucsc.edu (hgdownload.cse.ucsc.edu)|128.114.119.163|:80... connected.\n",
            "HTTP request sent, awaiting response... 200 OK\n",
            "Length: 359891064 (343M) [application/octet-stream]\n",
            "Saving to: ‘H3k27me3.bam’\n",
            "\n",
            "H3k27me3.bam        100%[===================>] 343.22M  40.5MB/s    in 9.1s    \n",
            "\n",
            "2023-04-08 19:04:35 (37.5 MB/s) - ‘H3k27me3.bam’ saved [359891064/359891064]\n",
            "\n",
            "--2023-04-08 19:04:35--  http://hgdownload.cse.ucsc.edu/goldenPath/hg19/encodeDCC/wgEncodeBroadHistone/wgEncodeBroadHistoneHmecH3k36me3StdAlnRep1.bam\n",
            "Resolving hgdownload.cse.ucsc.edu (hgdownload.cse.ucsc.edu)... 128.114.119.163\n",
            "Connecting to hgdownload.cse.ucsc.edu (hgdownload.cse.ucsc.edu)|128.114.119.163|:80... connected.\n",
            "HTTP request sent, awaiting response... 200 OK\n",
            "Length: 475858640 (454M) [application/octet-stream]\n",
            "Saving to: ‘H3k36me3.bam’\n",
            "\n",
            "H3k36me3.bam        100%[===================>] 453.81M  40.1MB/s    in 12s     \n",
            "\n",
            "2023-04-08 19:04:48 (36.7 MB/s) - ‘H3k36me3.bam’ saved [475858640/475858640]\n",
            "\n",
            "--2023-04-08 19:04:48--  http://hgdownload.cse.ucsc.edu/goldenPath/hg19/encodeDCC/wgEncodeBroadHistone/wgEncodeBroadHistoneHmecH3k4me1StdAlnRep1.bam\n",
            "Resolving hgdownload.cse.ucsc.edu (hgdownload.cse.ucsc.edu)... 128.114.119.163\n",
            "Connecting to hgdownload.cse.ucsc.edu (hgdownload.cse.ucsc.edu)|128.114.119.163|:80... connected.\n",
            "HTTP request sent, awaiting response... 200 OK\n",
            "Length: 799646625 (763M) [application/octet-stream]\n",
            "Saving to: ‘H3k4me1.bam’\n",
            "\n",
            "H3k4me1.bam         100%[===================>] 762.60M  38.0MB/s    in 20s     \n",
            "\n",
            "2023-04-08 19:05:08 (38.0 MB/s) - ‘H3k4me1.bam’ saved [799646625/799646625]\n",
            "\n",
            "--2023-04-08 19:05:08--  http://hgdownload.cse.ucsc.edu/goldenPath/hg19/encodeDCC/wgEncodeBroadHistone/wgEncodeBroadHistoneHmecH3k4me2StdAlnRep1.bam\n",
            "Resolving hgdownload.cse.ucsc.edu (hgdownload.cse.ucsc.edu)... 128.114.119.163\n",
            "Connecting to hgdownload.cse.ucsc.edu (hgdownload.cse.ucsc.edu)|128.114.119.163|:80... connected.\n",
            "HTTP request sent, awaiting response... 200 OK\n",
            "Length: 875066216 (835M) [application/octet-stream]\n",
            "Saving to: ‘H3k4me2.bam’\n",
            "\n",
            "H3k4me2.bam         100%[===================>] 834.53M  38.9MB/s    in 22s     \n",
            "\n",
            "2023-04-08 19:05:30 (38.1 MB/s) - ‘H3k4me2.bam’ saved [875066216/875066216]\n",
            "\n",
            "--2023-04-08 19:05:30--  http://hgdownload.cse.ucsc.edu/goldenPath/hg19/encodeDCC/wgEncodeBroadHistone/wgEncodeBroadHistoneHmecH3k4me3StdAlnRep1.bam\n",
            "Resolving hgdownload.cse.ucsc.edu (hgdownload.cse.ucsc.edu)... 128.114.119.163\n",
            "Connecting to hgdownload.cse.ucsc.edu (hgdownload.cse.ucsc.edu)|128.114.119.163|:80... connected.\n",
            "HTTP request sent, awaiting response... 200 OK\n",
            "Length: 750513931 (716M) [application/octet-stream]\n",
            "Saving to: ‘H3k4me3.bam’\n",
            "\n",
            "H3k4me3.bam         100%[===================>] 715.75M  40.0MB/s    in 19s     \n",
            "\n",
            "2023-04-08 19:05:50 (36.9 MB/s) - ‘H3k4me3.bam’ saved [750513931/750513931]\n",
            "\n",
            "--2023-04-08 19:05:50--  http://hgdownload.cse.ucsc.edu/goldenPath/hg19/encodeDCC/wgEncodeBroadHistone/wgEncodeBroadHistoneHmecH3k9acStdAlnRep1.bam\n",
            "Resolving hgdownload.cse.ucsc.edu (hgdownload.cse.ucsc.edu)... 128.114.119.163\n",
            "Connecting to hgdownload.cse.ucsc.edu (hgdownload.cse.ucsc.edu)|128.114.119.163|:80... connected.\n",
            "HTTP request sent, awaiting response... 200 OK\n",
            "Length: 574209467 (548M) [application/octet-stream]\n",
            "Saving to: ‘H3k9ac.bam’\n",
            "\n",
            "H3k9ac.bam          100%[===================>] 547.61M  40.2MB/s    in 15s     \n",
            "\n",
            "2023-04-08 19:06:05 (36.9 MB/s) - ‘H3k9ac.bam’ saved [574209467/574209467]\n",
            "\n",
            "--2023-04-08 19:06:05--  http://hgdownload.cse.ucsc.edu/goldenPath/hg19/encodeDCC/wgEncodeBroadHistone/wgEncodeBroadHistoneHmecH3k09me3AlnRep1.bam\n",
            "Resolving hgdownload.cse.ucsc.edu (hgdownload.cse.ucsc.edu)... 128.114.119.163\n",
            "Connecting to hgdownload.cse.ucsc.edu (hgdownload.cse.ucsc.edu)|128.114.119.163|:80... connected.\n",
            "HTTP request sent, awaiting response... 200 OK\n",
            "Length: 624741523 (596M) [application/octet-stream]\n",
            "Saving to: ‘H3k9me3.bam’\n",
            "\n",
            "H3k9me3.bam         100%[===================>] 595.80M  38.4MB/s    in 16s     \n",
            "\n",
            "2023-04-08 19:06:22 (37.4 MB/s) - ‘H3k9me3.bam’ saved [624741523/624741523]\n",
            "\n",
            "--2023-04-08 19:06:22--  http://hgdownload.cse.ucsc.edu/goldenPath/hg19/encodeDCC/wgEncodeBroadHistone/wgEncodeBroadHistoneHmecH4k20me1StdAlnRep1.bam\n",
            "Resolving hgdownload.cse.ucsc.edu (hgdownload.cse.ucsc.edu)... 128.114.119.163\n",
            "Connecting to hgdownload.cse.ucsc.edu (hgdownload.cse.ucsc.edu)|128.114.119.163|:80... connected.\n",
            "HTTP request sent, awaiting response... 200 OK\n",
            "Length: 999513929 (953M) [application/octet-stream]\n",
            "Saving to: ‘H4k20me1.bam’\n",
            "\n",
            "H4k20me1.bam        100%[===================>] 953.21M  39.5MB/s    in 24s     \n",
            "\n",
            "2023-04-08 19:06:46 (39.2 MB/s) - ‘H4k20me1.bam’ saved [999513929/999513929]\n",
            "\n",
            "--2023-04-08 19:06:46--  http://hgdownload.cse.ucsc.edu/goldenPath/hg19/encodeDCC/wgEncodeBroadHistone/wgEncodeBroadHistoneHmecCtcfStdAlnRep1.bam\n",
            "Resolving hgdownload.cse.ucsc.edu (hgdownload.cse.ucsc.edu)... 128.114.119.163\n",
            "Connecting to hgdownload.cse.ucsc.edu (hgdownload.cse.ucsc.edu)|128.114.119.163|:80... connected.\n",
            "HTTP request sent, awaiting response... 200 OK\n",
            "Length: 248827709 (237M) [application/octet-stream]\n",
            "Saving to: ‘Ctcf.bam’\n",
            "\n",
            "Ctcf.bam            100%[===================>] 237.30M  39.2MB/s    in 6.7s    \n",
            "\n",
            "2023-04-08 19:06:53 (35.3 MB/s) - ‘Ctcf.bam’ saved [248827709/248827709]\n",
            "\n"
          ]
        }
      ],
      "source": [
        "! wget http://hgdownload.cse.ucsc.edu/goldenPath/hg19/encodeDCC/wgEncodeBroadHistone/wgEncodeBroadHistoneHmecH3k27acStdAlnRep1.bam -O H3k27ac.bam\n",
        "! wget http://hgdownload.cse.ucsc.edu/goldenPath/hg19/encodeDCC/wgEncodeBroadHistone/wgEncodeBroadHistoneHmecH3k27me3StdAlnRep1.bam -O H3k27me3.bam\n",
        "! wget http://hgdownload.cse.ucsc.edu/goldenPath/hg19/encodeDCC/wgEncodeBroadHistone/wgEncodeBroadHistoneHmecH3k36me3StdAlnRep1.bam -O H3k36me3.bam\n",
        "! wget http://hgdownload.cse.ucsc.edu/goldenPath/hg19/encodeDCC/wgEncodeBroadHistone/wgEncodeBroadHistoneHmecH3k4me1StdAlnRep1.bam -O H3k4me1.bam\n",
        "! wget http://hgdownload.cse.ucsc.edu/goldenPath/hg19/encodeDCC/wgEncodeBroadHistone/wgEncodeBroadHistoneHmecH3k4me2StdAlnRep1.bam -O H3k4me2.bam\n",
        "! wget http://hgdownload.cse.ucsc.edu/goldenPath/hg19/encodeDCC/wgEncodeBroadHistone/wgEncodeBroadHistoneHmecH3k4me3StdAlnRep1.bam -O H3k4me3.bam\n",
        "! wget http://hgdownload.cse.ucsc.edu/goldenPath/hg19/encodeDCC/wgEncodeBroadHistone/wgEncodeBroadHistoneHmecH3k9acStdAlnRep1.bam -O H3k9ac.bam\n",
        "! wget http://hgdownload.cse.ucsc.edu/goldenPath/hg19/encodeDCC/wgEncodeBroadHistone/wgEncodeBroadHistoneHmecH3k09me3AlnRep1.bam -O H3k9me3.bam\n",
        "! wget http://hgdownload.cse.ucsc.edu/goldenPath/hg19/encodeDCC/wgEncodeBroadHistone/wgEncodeBroadHistoneHmecH4k20me1StdAlnRep1.bam -O H4k20me1.bam\n",
        "! wget http://hgdownload.cse.ucsc.edu/goldenPath/hg19/encodeDCC/wgEncodeBroadHistone/wgEncodeBroadHistoneHmecCtcfStdAlnRep1.bam -O Ctcf.bam\n"
      ]
    },
    {
      "cell_type": "code",
      "source": [
        "! wget http://hgdownload.cse.ucsc.edu/goldenPath/hg19/encodeDCC/wgEncodeBroadHistone/wgEncodeBroadHistoneHmecControlStdAlnRep1.bam -O Control.bam"
      ],
      "metadata": {
        "colab": {
          "base_uri": "https://localhost:8080/"
        },
        "id": "kQgWB_s9PbR6",
        "outputId": "da52d8a4-b450-4905-c261-f5e535d93e10"
      },
      "execution_count": 7,
      "outputs": [
        {
          "output_type": "stream",
          "name": "stdout",
          "text": [
            "--2023-04-08 19:06:54--  http://hgdownload.cse.ucsc.edu/goldenPath/hg19/encodeDCC/wgEncodeBroadHistone/wgEncodeBroadHistoneHmecControlStdAlnRep1.bam\n",
            "Resolving hgdownload.cse.ucsc.edu (hgdownload.cse.ucsc.edu)... 128.114.119.163\n",
            "Connecting to hgdownload.cse.ucsc.edu (hgdownload.cse.ucsc.edu)|128.114.119.163|:80... connected.\n",
            "HTTP request sent, awaiting response... 200 OK\n",
            "Length: 308014434 (294M) [application/octet-stream]\n",
            "Saving to: ‘Control.bam’\n",
            "\n",
            "Control.bam         100%[===================>] 293.75M  39.7MB/s    in 8.2s    \n",
            "\n",
            "2023-04-08 19:07:02 (35.9 MB/s) - ‘Control.bam’ saved [308014434/308014434]\n",
            "\n"
          ]
        }
      ]
    },
    {
      "cell_type": "markdown",
      "metadata": {
        "id": "asjMJ26h79SY"
      },
      "source": [
        "* Вручную создаем текстовый файл cellmarkfiletable.txt, в котором указываем название типа клеток, разных гистоновых меток, а также соответствующие .bam файлы для эксперимента и контроля. Один и тот же контрольный файл .bam может быть использован для всех экспериментов.\n",
        "\n",
        "* Более подробно о содержании файла cellmarkfiletable.txt можно посмотреть в руководстве пользователя ChromHMM\n",
        "\n",
        "* Файл cellmarkfiletable.txt добавляем в github репозиторий для отчета"
      ]
    },
    {
      "cell_type": "code",
      "source": [
        "import os\n",
        "\n",
        "control_file = \"Control.bam\"\n",
        "cell_types = \"HMEC\"\n",
        "\n",
        "f = open('cellmarkfiletable.txt', 'w')\n",
        "\n",
        "for file in os.listdir():\n",
        "  if \".bam\" in file and file != control_file:\n",
        "    f.write(f\"{cell_types}\\t{file[:-4]}\\t{file}\\t{control_file}\\n\")\n",
        "\n",
        "f.close()"
      ],
      "metadata": {
        "id": "r_Zu3bNfQg0p"
      },
      "execution_count": 12,
      "outputs": []
    },
    {
      "cell_type": "markdown",
      "metadata": {
        "id": "WeoRL3rp728b"
      },
      "source": [
        "Запускаем ChromHMM с опцией BinarizeBam, чтобы конвертировать профили из ChIP-seq экспериментов (bam-файлы) в табличку из 0 и 1, т.е. чтобы сделать разбивку генома на условные интервалы (бины) длиной 200 п.о.\n",
        "Для 11 меток программа работает около 5 мин\n"
      ]
    },
    {
      "cell_type": "code",
      "execution_count": 13,
      "metadata": {
        "colab": {
          "base_uri": "https://localhost:8080/"
        },
        "id": "GcVBvuQZfzb8",
        "outputId": "43635e92-0e90-4139-8a1d-06b2435751d5"
      },
      "outputs": [
        {
          "output_type": "stream",
          "name": "stdout",
          "text": [
            "Writing to file binarizedData/HMEC_chr1_binary.txt\n",
            "Writing to file binarizedData/HMEC_chr2_binary.txt\n",
            "Writing to file binarizedData/HMEC_chr3_binary.txt\n",
            "Writing to file binarizedData/HMEC_chr4_binary.txt\n",
            "Writing to file binarizedData/HMEC_chr5_binary.txt\n",
            "Writing to file binarizedData/HMEC_chr6_binary.txt\n",
            "Writing to file binarizedData/HMEC_chr7_binary.txt\n",
            "Writing to file binarizedData/HMEC_chrX_binary.txt\n",
            "Writing to file binarizedData/HMEC_chr8_binary.txt\n",
            "Writing to file binarizedData/HMEC_chr9_binary.txt\n",
            "Writing to file binarizedData/HMEC_chr10_binary.txt\n",
            "Writing to file binarizedData/HMEC_chr11_binary.txt\n",
            "Writing to file binarizedData/HMEC_chr12_binary.txt\n",
            "Writing to file binarizedData/HMEC_chr13_binary.txt\n",
            "Writing to file binarizedData/HMEC_chr14_binary.txt\n",
            "Writing to file binarizedData/HMEC_chr15_binary.txt\n",
            "Writing to file binarizedData/HMEC_chr16_binary.txt\n",
            "Writing to file binarizedData/HMEC_chr17_binary.txt\n",
            "Writing to file binarizedData/HMEC_chr18_binary.txt\n",
            "Writing to file binarizedData/HMEC_chr20_binary.txt\n",
            "Writing to file binarizedData/HMEC_chrY_binary.txt\n",
            "Writing to file binarizedData/HMEC_chr19_binary.txt\n",
            "Writing to file binarizedData/HMEC_chr22_binary.txt\n",
            "Writing to file binarizedData/HMEC_chr21_binary.txt\n",
            "Writing to file binarizedData/HMEC_chrM_binary.txt\n"
          ]
        }
      ],
      "source": [
        "!java -mx5000M -jar /content/ChromHMM/ChromHMM.jar BinarizeBam -b 200  /content/ChromHMM/CHROMSIZES/hg19.txt /content/ cellmarkfiletable.txt   binarizedData\n"
      ]
    },
    {
      "cell_type": "markdown",
      "metadata": {
        "id": "Yo11TtNG8SXU"
      },
      "source": [
        "Запускаем ChromHMM с опцией LearnModel (см. руководство пользователя), которая автоматически определит параметры N разных эпигенетических типов с наиболее выраженными наборами гистоновых меток и присвоит каждому геномному интервалу определенный эпигенетический тип. Количество разных эпигенетических типов (или состояний) выбираете сами (например 10 штук).\n",
        "Не забудьте, что мы работаем с версией референсного генома человека hg19\n",
        "Для 11 меток программа работает около 10 минут\n"
      ]
    },
    {
      "cell_type": "code",
      "source": [
        "!java -mx5000M -jar /content/ChromHMM/ChromHMM.jar LearnModel -b 200 /content/binarizedData/ /content/data 15 hg19"
      ],
      "metadata": {
        "colab": {
          "base_uri": "https://localhost:8080/"
        },
        "id": "AMG0ip5ZTE7S",
        "outputId": "4deda03d-e086-49d4-e6d9-67b8752838c9"
      },
      "execution_count": 14,
      "outputs": [
        {
          "output_type": "stream",
          "name": "stdout",
          "text": [
            "Writing to file /content/data/transitions_15.txt\n",
            "Writing to file /content/data/emissions_15.txt\n",
            "Writing to file /content/data/emissions_15.svg\n",
            "Writing to file /content/data/emissions_15.png\n",
            "Writing to file /content/data/transitions_15.png\n",
            "Writing to file /content/data/transitions_15.svg\n",
            "Writing to file /content/data/model_15.txt\n",
            " Iteration  Estimated Log Likelihood     Change    Total Time (secs)\n",
            "         1              -8682928.991          -                 25.5\n",
            "         2              -7491127.889 1191801.102                 50.4\n",
            "         3              -7219592.718 271535.171                 72.4\n",
            "         4              -7080698.054 138894.665                 98.4\n",
            "         5              -7019200.199  61497.855                122.6\n",
            "         6              -6989022.433  30177.766                142.9\n",
            "         7              -6968186.174  20836.259                164.4\n",
            "         8              -6950748.827  17437.348                185.9\n",
            "         9              -6934414.338  16334.489                206.2\n",
            "        10              -6917498.795  16915.542                227.7\n",
            "        11              -6903163.601  14335.194                249.1\n",
            "        12              -6894906.870   8256.731                269.4\n",
            "        13              -6890037.472   4869.398                290.8\n",
            "        14              -6887097.321   2940.151                312.1\n",
            "        15              -6885332.548   1764.773                332.4\n",
            "        16              -6884208.962   1123.586                353.8\n",
            "        17              -6883427.785    781.176                374.3\n",
            "        18              -6882846.185    581.600                395.6\n",
            "        19              -6882396.459    449.726                416.9\n",
            "        20              -6882025.023    371.436                437.1\n",
            "        21              -6881699.971    325.052                458.4\n",
            "        22              -6881406.198    293.772                479.8\n",
            "        23              -6881136.495    269.703                500.1\n",
            "        24              -6880888.848    247.647                521.8\n",
            "        25              -6880664.389    224.459                543.5\n",
            "        26              -6880465.119    199.270                564.0\n",
            "        27              -6880292.240    172.879                585.7\n",
            "        28              -6880145.650    146.589                607.4\n",
            "        29              -6880023.988    121.662                627.9\n",
            "        30              -6879924.908     99.080                649.7\n",
            "        31              -6879845.485     79.422                671.4\n",
            "        32              -6879782.617     62.868                691.9\n",
            "        33              -6879733.323     49.294                715.0\n",
            "        34              -6879694.925     38.398                737.8\n",
            "        35              -6879665.131     29.794                759.3\n",
            "        36              -6879642.044     23.087                780.1\n",
            "        37              -6879624.134     17.909                801.8\n",
            "        38              -6879610.197     13.937                823.5\n",
            "        39              -6879599.273     10.925                844.2\n",
            "        40              -6879590.678      8.594                865.8\n",
            "        41              -6879583.838      6.841                887.3\n",
            "        42              -6879578.336      5.501                908.1\n",
            "        43              -6879573.860      4.477                929.7\n",
            "        44              -6879570.171      3.689                951.4\n",
            "        45              -6879567.091      3.080                972.1\n",
            "        46              -6879564.486      2.605                993.7\n",
            "        47              -6879562.254      2.232               1014.9\n",
            "        48              -6879560.319      1.935               1035.8\n",
            "        49              -6879558.621      1.697               1057.4\n",
            "        50              -6879557.117      1.504               1078.7\n",
            "        51              -6879555.772      1.345               1099.7\n",
            "        52              -6879554.558      1.214               1121.4\n",
            "        53              -6879553.456      1.102               1142.4\n",
            "        54              -6879552.448      1.008               1163.8\n",
            "        55              -6879551.522      0.927               1185.4\n",
            "        56              -6879550.666      0.856               1206.5\n",
            "        57              -6879549.872      0.794               1227.5\n",
            "        58              -6879549.133      0.739               1249.2\n",
            "        59              -6879548.443      0.690               1270.1\n",
            "        60              -6879547.797      0.646               1291.3\n",
            "        61              -6879547.190      0.607               1313.0\n",
            "        62              -6879546.619      0.571               1333.8\n",
            "        63              -6879546.081      0.538               1355.2\n",
            "        64              -6879545.573      0.508               1376.9\n",
            "        65              -6879545.093      0.480               1397.7\n",
            "        66              -6879544.638      0.455               1419.1\n",
            "        67              -6879544.207      0.431               1440.7\n",
            "        68              -6879543.799      0.409               1461.5\n",
            "        69              -6879543.410      0.389               1482.8\n",
            "        70              -6879543.041      0.369               1504.5\n",
            "        71              -6879542.689      0.351               1529.5\n",
            "        72              -6879542.354      0.335               1551.6\n",
            "        73              -6879542.035      0.319               1573.8\n",
            "        74              -6879541.731      0.304               1596.5\n",
            "        75              -6879541.441      0.290               1619.3\n",
            "        76              -6879541.164      0.277               1641.8\n",
            "        77              -6879540.899      0.264               1663.7\n",
            "        78              -6879540.647      0.253               1686.4\n",
            "        79              -6879540.403      0.243               1712.0\n",
            "        80              -6879540.173      0.230               1735.6\n",
            "        81              -6879539.952      0.221               1758.9\n",
            "        82              -6879539.741      0.211               1781.3\n",
            "        83              -6879539.539      0.202               1804.3\n",
            "        84              -6879539.346      0.194               1827.5\n",
            "        85              -6879539.160      0.185               1850.7\n",
            "        86              -6879538.983      0.177               1873.9\n",
            "        87              -6879538.813      0.170               1895.9\n",
            "        88              -6879538.650      0.163               1919.2\n",
            "        89              -6879538.494      0.156               1942.4\n",
            "        90              -6879538.345      0.149               1965.5\n",
            "        91              -6879538.201      0.143               1988.7\n",
            "        92              -6879538.064      0.137               2010.7\n",
            "        93              -6879537.932      0.132               2033.9\n",
            "        94              -6879537.806      0.126               2057.1\n",
            "        95              -6879537.684      0.121               2080.4\n",
            "        96              -6879537.568      0.116               2103.5\n",
            "        97              -6879537.456      0.112               2125.7\n",
            "        98              -6879537.349      0.107               2148.8\n",
            "        99              -6879537.246      0.103               2172.2\n",
            "       100              -6879537.147      0.099               2195.3\n",
            "       101              -6879537.052      0.095               2218.2\n",
            "       102              -6879536.961      0.091               2240.8\n",
            "       103              -6879536.873      0.088               2264.0\n",
            "       104              -6879536.788      0.084               2287.2\n",
            "       105              -6879536.707      0.081               2310.4\n",
            "       106              -6879536.629      0.078               2333.0\n",
            "       107              -6879536.554      0.075               2355.8\n",
            "       108              -6879536.481      0.072               2379.0\n",
            "       109              -6879536.411      0.070               2402.3\n",
            "       110              -6879536.344      0.067               2425.7\n",
            "       111              -6879536.280      0.065               2448.0\n",
            "       112              -6879536.217      0.062               2471.0\n",
            "       113              -6879536.157      0.060               2494.2\n",
            "       114              -6879536.099      0.058               2517.6\n",
            "       115              -6879536.043      0.056               2540.9\n",
            "       116              -6879535.989      0.054               2563.0\n",
            "       117              -6879535.937      0.052               2586.3\n",
            "       118              -6879535.887      0.050               2609.5\n",
            "       119              -6879535.839      0.049               2632.7\n",
            "       120              -6879535.792      0.047               2656.0\n",
            "       121              -6879535.747      0.045               2678.1\n",
            "       122              -6879535.703      0.044               2701.4\n",
            "       123              -6879535.661      0.042               2724.7\n",
            "       124              -6879535.621      0.041               2747.9\n",
            "       125              -6879535.581      0.039               2771.3\n",
            "       126              -6879535.543      0.038               2793.4\n",
            "       127              -6879535.506      0.037               2816.7\n",
            "       128              -6879535.471      0.036               2840.0\n",
            "       129              -6879535.436      0.034               2863.3\n",
            "       130              -6879535.403      0.033               2886.6\n",
            "       131              -6879535.371      0.032               2908.7\n",
            "       132              -6879535.340      0.031               2932.1\n",
            "       133              -6879535.310      0.030               2955.4\n",
            "       134              -6879535.280      0.029               2978.7\n",
            "       135              -6879535.252      0.028               3001.9\n",
            "       136              -6879535.225      0.027               3023.9\n",
            "       137              -6879535.198      0.027               3047.1\n",
            "       138              -6879535.172      0.026               3070.4\n",
            "       139              -6879535.148      0.025               3093.6\n",
            "       140              -6879535.124      0.024               3116.6\n",
            "       141              -6879535.100      0.023               3138.9\n",
            "       142              -6879535.077      0.023               3162.1\n",
            "       143              -6879535.055      0.022               3185.4\n",
            "       144              -6879535.034      0.021               3208.6\n",
            "       145              -6879535.014      0.021               3231.5\n",
            "       146              -6879534.994      0.020               3254.0\n",
            "       147              -6879534.974      0.019               3277.2\n",
            "       148              -6879534.955      0.019               3300.5\n",
            "       149              -6879534.937      0.018               3323.8\n",
            "       150              -6879534.919      0.018               3346.4\n",
            "       151              -6879534.902      0.017               3369.1\n",
            "       152              -6879534.885      0.017               3392.2\n",
            "       153              -6879534.869      0.016               3415.5\n",
            "       154              -6879534.853      0.016               3438.7\n",
            "       155              -6879534.838      0.015               3461.1\n",
            "       156              -6879534.823      0.015               3484.0\n",
            "       157              -6879534.809      0.014               3507.3\n",
            "       158              -6879534.795      0.014               3530.6\n",
            "       159              -6879534.781      0.014               3554.0\n",
            "       160              -6879534.768      0.013               3576.4\n",
            "       161              -6879534.755      0.013               3599.6\n",
            "       162              -6879534.742      0.013               3623.1\n",
            "       163              -6879534.730      0.012               3646.3\n",
            "       164              -6879534.718      0.012               3669.6\n",
            "       165              -6879534.707      0.011               3691.7\n",
            "       166              -6879534.696      0.011               3714.8\n",
            "       167              -6879534.685      0.011               3738.0\n",
            "       168              -6879534.674      0.011               3761.1\n",
            "       169              -6879534.664      0.010               3784.4\n",
            "       170              -6879534.654      0.010               3806.5\n",
            "       171              -6879534.644      0.010               3829.7\n",
            "       172              -6879534.635      0.009               3852.9\n",
            "       173              -6879534.626      0.009               3876.1\n",
            "       174              -6879534.617      0.009               3899.4\n",
            "       175              -6879534.608      0.009               3921.5\n",
            "       176              -6879534.599      0.009               3944.6\n",
            "       177              -6879534.591      0.008               3967.9\n",
            "       178              -6879534.583      0.008               3991.1\n",
            "       179              -6879534.575      0.008               4014.6\n",
            "       180              -6879534.568      0.008               4036.6\n",
            "       181              -6879534.560      0.007               4059.7\n",
            "       182              -6879534.553      0.007               4082.9\n",
            "       183              -6879534.546      0.007               4106.1\n",
            "       184              -6879534.539      0.007               4129.0\n",
            "       185              -6879534.532      0.007               4151.4\n",
            "       186              -6879534.526      0.007               4174.6\n",
            "       187              -6879534.519      0.006               4197.8\n",
            "       188              -6879534.513      0.006               4221.1\n",
            "       189              -6879534.507      0.006               4243.6\n",
            "       190              -6879534.501      0.006               4266.2\n",
            "       191              -6879534.496      0.006               4289.4\n",
            "       192              -6879534.490      0.006               4312.6\n",
            "       193              -6879534.485      0.005               4335.9\n",
            "       194              -6879534.479      0.005               4358.4\n",
            "       195              -6879534.474      0.005               4381.4\n",
            "       196              -6879534.469      0.005               4404.5\n",
            "       197              -6879534.464      0.005               4427.7\n",
            "       198              -6879534.460      0.005               4450.9\n",
            "       199              -6879534.455      0.005               4472.9\n",
            "       200              -6879534.450      0.005               4496.1\n",
            "Writing to file /content/data/HMEC_15_segments.bed\n",
            "Writing to file /content/data/HMEC_15_dense.bed\n",
            "Writing to file /content/data/HMEC_15_expanded.bed\n",
            "Writing to file /content/data/HMEC_15_overlap.txt\n",
            "Writing to file /content/data/HMEC_15_overlap.png\n",
            "Writing to file /content/data/HMEC_15_overlap.svg\n",
            "Writing to file /content/data/HMEC_15_RefSeqTSS_neighborhood.txt\n",
            "Writing to file /content/data/HMEC_15_RefSeqTSS_neighborhood.png\n",
            "Writing to file /content/data/HMEC_15_RefSeqTSS_neighborhood.svg\n",
            "Writing to file /content/data/HMEC_15_RefSeqTES_neighborhood.txt\n",
            "Writing to file /content/data/HMEC_15_RefSeqTES_neighborhood.png\n",
            "Writing to file /content/data/HMEC_15_RefSeqTES_neighborhood.svg\n",
            "Warning could not automatically open in a browser /content/data/webpage_15.html\n"
          ]
        }
      ]
    },
    {
      "cell_type": "markdown",
      "metadata": {
        "id": "7yuCmmw-gsFC"
      },
      "source": [
        "В результате выполнения команды LearnModel будет создан набор файлов (в том числе HTML страничка) в папке выдачи, которая была указана при запуске. Скачиваем эту папку себе на копьютер и открываем HTML файл.\n"
      ]
    },
    {
      "cell_type": "code",
      "source": [
        "!zip -r /content/data.zip /content/data"
      ],
      "metadata": {
        "colab": {
          "base_uri": "https://localhost:8080/"
        },
        "id": "GVk3xbzEpCTU",
        "outputId": "c29c82ff-0410-4c76-a1a2-75a2d04f44f4"
      },
      "execution_count": 15,
      "outputs": [
        {
          "output_type": "stream",
          "name": "stdout",
          "text": [
            "  adding: content/data/ (stored 0%)\n",
            "  adding: content/data/HMEC_15_RefSeqTES_neighborhood.svg (deflated 73%)\n",
            "  adding: content/data/HMEC_15_expanded.bed (deflated 71%)\n",
            "  adding: content/data/transitions_15.svg (deflated 69%)\n",
            "  adding: content/data/webpage_15.html (deflated 71%)\n",
            "  adding: content/data/emissions_15.png (deflated 25%)\n",
            "  adding: content/data/emissions_15.txt (deflated 50%)\n",
            "  adding: content/data/HMEC_15_segments.bed (deflated 80%)\n",
            "  adding: content/data/HMEC_15_overlap.png (deflated 23%)\n",
            "  adding: content/data/HMEC_15_RefSeqTES_neighborhood.txt (deflated 57%)\n",
            "  adding: content/data/model_15.txt (deflated 71%)\n",
            "  adding: content/data/transitions_15.txt (deflated 51%)\n",
            "  adding: content/data/emissions_15.svg (deflated 70%)\n",
            "  adding: content/data/transitions_15.png (deflated 26%)\n",
            "  adding: content/data/HMEC_15_RefSeqTSS_neighborhood.svg (deflated 73%)\n",
            "  adding: content/data/HMEC_15_dense.bed (deflated 84%)\n",
            "  adding: content/data/HMEC_15_RefSeqTES_neighborhood.png (deflated 41%)\n",
            "  adding: content/data/HMEC_15_RefSeqTSS_neighborhood.txt (deflated 52%)\n",
            "  adding: content/data/HMEC_15_overlap.txt (deflated 48%)\n",
            "  adding: content/data/HMEC_15_RefSeqTSS_neighborhood.png (deflated 36%)\n",
            "  adding: content/data/HMEC_15_overlap.svg (deflated 70%)\n"
          ]
        }
      ]
    },
    {
      "cell_type": "code",
      "source": [],
      "metadata": {
        "id": "JflMuiOfpFun"
      },
      "execution_count": null,
      "outputs": []
    }
  ],
  "metadata": {
    "colab": {
      "provenance": []
    },
    "kernelspec": {
      "display_name": "Python 3",
      "name": "python3"
    },
    "language_info": {
      "name": "python"
    }
  },
  "nbformat": 4,
  "nbformat_minor": 0
}